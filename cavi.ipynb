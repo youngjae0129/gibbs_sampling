{
 "cells": [
  {
   "cell_type": "code",
   "execution_count": 2,
   "metadata": {},
   "outputs": [],
   "source": [
    "from matplotlib import pyplot as plt\n",
    "from scipy import stats\n",
    "import numpy as np\n",
    "import pandas as pd"
   ]
  },
  {
   "cell_type": "code",
   "execution_count": 3,
   "metadata": {},
   "outputs": [],
   "source": [
    "class CAVI():\n",
    "    def __init__(self, data):\n",
    "        self.data = data\n",
    "\n",
    "        # For PI (PI ~ Dirichlet)\n",
    "        self.pi_a = 0.5\n",
    "\n",
    "        # For Lambda (Lambda ~ Gamma)\n",
    "        self.gamma_a = 1\n",
    "        self.gamma_b = 1\n",
    "\n",
    "        self.elbo = []\n",
    "\n",
    "    def init_params(self):\n",
    "        self.pi = np.random.dirichlet([self.pi_a] * self.data.shape[1])\n",
    "        self.gamma = np.random.gamma(self.gamma_a, 1 / self.gamma_b, size=self.data.shape[1])\n",
    "        self.z = np.random.multinomial(1, self.pi, size=self.data.shape[0])\n",
    "\n",
    "    def update(self):\n",
    "        self.update_pi()\n",
    "        self.update_gamma()\n",
    "        self.update_z()\n",
    "    \n",
    "    def update_pi(self):\n",
    "        self.pi = (self.z.sum(axis=0) + self.pi_a - 1) / (self.data.shape[0] + self.pi_a + self.pi.sum() - 1)\n",
    "    \n",
    "    def update_gamma(self):\n",
    "        self.gamma = self.gamma_a + self.z.sum(axis=0)\n",
    "\n",
    "    def update_z(self):\n",
    "        for i in range(self.data.shape[0]):\n",
    "            self.z[i] = np.random.multinomial(1, self.pi * stats.poisson.pmf(self.data[i], self.gamma))\n",
    "\n",
    "    def calculate_elbo(self):\n",
    "        logpx = np.sum(self.z * np.log(stats.poisson.pmf(self.data, self.gamma).T))\n",
    "        logpz = np.sum(self.z * np.log(self.pi))\n",
    "        logppi = stats.dirichlet(self.pi_a * np.ones(self.data.shape[1])).logpdf(self.pi)\n",
    "        logpgamma = np.sum(stats.gamma(self.gamma_a, scale=1 / self.gamma_b).logpdf(self.gamma))\n",
    "        logqz = np.sum(self.z * np.log(self.z))\n",
    "        logqpi = stats.dirichlet(self.pi_a * np.ones(self.data.shape[1])).logpdf(self.pi)\n",
    "        logqgamma = np.sum(stats.gamma(self.gamma_a, scale=1 / self.gamma_b).logpdf(self.gamma))\n",
    "        return logpx + logpz + logppi + logpgamma - logqz - logqpi - logqgamma\n",
    "\n",
    "\n",
    "    def fit(self, max_iter=100):\n",
    "        self.init_params()\n",
    "        for i in range(max_iter):\n",
    "            self.update()\n",
    "            self.elbo.append(self.calculate_elbo())\n",
    "            if self.elbo[-1] - self.elbo[-2] < 1e-5:\n",
    "                break\n"
   ]
  },
  {
   "cell_type": "code",
   "execution_count": 4,
   "metadata": {},
   "outputs": [],
   "source": [
    "data = pd.DataFrame()\n",
    "vocabs = []\n",
    "with open('./vocab.txt', 'r') as f:\n",
    "    for line in f:\n",
    "        vocabs.append(line.split()[0])\n",
    "\n",
    "rows = []\n",
    "count = []\n",
    "with open('./ap.dat', 'r') as f:\n",
    "    for line in f:\n",
    "        tmp = line.split(' ')\n",
    "        count.append(tmp[0])\n",
    "        tmp = tmp[1:]\n",
    "        row = [0] * len(vocabs)\n",
    "        for elem in tmp:\n",
    "            index, value = elem.split(':')\n",
    "            row[int(index)] = int(value)\n",
    "        rows.append(row)\n",
    "            \n",
    "x_data = pd.DataFrame(rows, columns = vocabs)"
   ]
  },
  {
   "cell_type": "code",
   "execution_count": 6,
   "metadata": {},
   "outputs": [
    {
     "ename": "ValueError",
     "evalue": "pvals < 0, pvals > 1 or pvals contains NaNs",
     "output_type": "error",
     "traceback": [
      "\u001b[0;31m---------------------------------------------------------------------------\u001b[0m",
      "\u001b[0;31mValueError\u001b[0m                                Traceback (most recent call last)",
      "Cell \u001b[0;32mIn[6], line 2\u001b[0m\n\u001b[1;32m      1\u001b[0m cavi \u001b[39m=\u001b[39m CAVI(x_data\u001b[39m.\u001b[39mvalues)\n\u001b[0;32m----> 2\u001b[0m cavi\u001b[39m.\u001b[39;49mfit(max_iter\u001b[39m=\u001b[39;49m\u001b[39m100\u001b[39;49m)\n",
      "Cell \u001b[0;32mIn[3], line 48\u001b[0m, in \u001b[0;36mCAVI.fit\u001b[0;34m(self, max_iter)\u001b[0m\n\u001b[1;32m     46\u001b[0m \u001b[39mself\u001b[39m\u001b[39m.\u001b[39minit_params()\n\u001b[1;32m     47\u001b[0m \u001b[39mfor\u001b[39;00m i \u001b[39min\u001b[39;00m \u001b[39mrange\u001b[39m(max_iter):\n\u001b[0;32m---> 48\u001b[0m     \u001b[39mself\u001b[39;49m\u001b[39m.\u001b[39;49mupdate()\n\u001b[1;32m     49\u001b[0m     \u001b[39mself\u001b[39m\u001b[39m.\u001b[39melbo\u001b[39m.\u001b[39mappend(\u001b[39mself\u001b[39m\u001b[39m.\u001b[39mcalculate_elbo())\n\u001b[1;32m     50\u001b[0m     \u001b[39mif\u001b[39;00m \u001b[39mself\u001b[39m\u001b[39m.\u001b[39melbo[\u001b[39m-\u001b[39m\u001b[39m1\u001b[39m] \u001b[39m-\u001b[39m \u001b[39mself\u001b[39m\u001b[39m.\u001b[39melbo[\u001b[39m-\u001b[39m\u001b[39m2\u001b[39m] \u001b[39m<\u001b[39m \u001b[39m1e-5\u001b[39m:\n",
      "Cell \u001b[0;32mIn[3], line 22\u001b[0m, in \u001b[0;36mCAVI.update\u001b[0;34m(self)\u001b[0m\n\u001b[1;32m     20\u001b[0m \u001b[39mself\u001b[39m\u001b[39m.\u001b[39mupdate_pi()\n\u001b[1;32m     21\u001b[0m \u001b[39mself\u001b[39m\u001b[39m.\u001b[39mupdate_gamma()\n\u001b[0;32m---> 22\u001b[0m \u001b[39mself\u001b[39;49m\u001b[39m.\u001b[39;49mupdate_z()\n",
      "Cell \u001b[0;32mIn[3], line 32\u001b[0m, in \u001b[0;36mCAVI.update_z\u001b[0;34m(self)\u001b[0m\n\u001b[1;32m     30\u001b[0m \u001b[39mdef\u001b[39;00m \u001b[39mupdate_z\u001b[39m(\u001b[39mself\u001b[39m):\n\u001b[1;32m     31\u001b[0m     \u001b[39mfor\u001b[39;00m i \u001b[39min\u001b[39;00m \u001b[39mrange\u001b[39m(\u001b[39mself\u001b[39m\u001b[39m.\u001b[39mdata\u001b[39m.\u001b[39mshape[\u001b[39m0\u001b[39m]):\n\u001b[0;32m---> 32\u001b[0m         \u001b[39mself\u001b[39m\u001b[39m.\u001b[39mz[i] \u001b[39m=\u001b[39m np\u001b[39m.\u001b[39;49mrandom\u001b[39m.\u001b[39;49mmultinomial(\u001b[39m1\u001b[39;49m, \u001b[39mself\u001b[39;49m\u001b[39m.\u001b[39;49mpi \u001b[39m*\u001b[39;49m stats\u001b[39m.\u001b[39;49mpoisson\u001b[39m.\u001b[39;49mpmf(\u001b[39mself\u001b[39;49m\u001b[39m.\u001b[39;49mdata[i], \u001b[39mself\u001b[39;49m\u001b[39m.\u001b[39;49mgamma))\n",
      "File \u001b[0;32mmtrand.pyx:4337\u001b[0m, in \u001b[0;36mnumpy.random.mtrand.RandomState.multinomial\u001b[0;34m()\u001b[0m\n",
      "File \u001b[0;32m_common.pyx:391\u001b[0m, in \u001b[0;36mnumpy.random._common.check_array_constraint\u001b[0;34m()\u001b[0m\n",
      "File \u001b[0;32m_common.pyx:377\u001b[0m, in \u001b[0;36mnumpy.random._common._check_array_cons_bounded_0_1\u001b[0;34m()\u001b[0m\n",
      "\u001b[0;31mValueError\u001b[0m: pvals < 0, pvals > 1 or pvals contains NaNs"
     ]
    }
   ],
   "source": [
    "cavi = CAVI(x_data.values)\n",
    "cavi.fit(max_iter=100)"
   ]
  }
 ],
 "metadata": {
  "kernelspec": {
   "display_name": "test",
   "language": "python",
   "name": "python3"
  },
  "language_info": {
   "codemirror_mode": {
    "name": "ipython",
    "version": 3
   },
   "file_extension": ".py",
   "mimetype": "text/x-python",
   "name": "python",
   "nbconvert_exporter": "python",
   "pygments_lexer": "ipython3",
   "version": "3.11.3"
  },
  "orig_nbformat": 4
 },
 "nbformat": 4,
 "nbformat_minor": 2
}
