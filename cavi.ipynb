{
 "cells": [
  {
   "cell_type": "code",
   "execution_count": 82,
   "metadata": {},
   "outputs": [],
   "source": [
    "from matplotlib import pyplot as plt\n",
    "from scipy.stats import multinomial,gamma,dirichlet,poisson\n",
    "import numpy as np\n",
    "import pandas as pd\n",
    "from tqdm import tqdm\n",
    "from scipy.special import psi  \n",
    "from scipy.special import polygamma"
   ]
  },
  {
   "cell_type": "code",
   "execution_count": 136,
   "metadata": {},
   "outputs": [],
   "source": [
    "class CAVI():\n",
    "    def __init__(self, data,pi_a,gamma_a,gamma_b,K):\n",
    "\n",
    "        # Number of Topics\n",
    "        self.K = K\n",
    "\n",
    "        # For Data & Size\n",
    "        self.data = data\n",
    "        self.N, self.V = data.shape\n",
    "\n",
    "        # For PI (PI ~ Dirichlet)\n",
    "        self.pi_a = pi_a\n",
    "\n",
    "        # For Lambda (Lambda ~ Gamma)\n",
    "        self.gamma_a = gamma_a\n",
    "        self.gamma_b = gamma_b\n",
    "\n",
    "        self.elbo = []\n",
    "\n",
    "    def init_params(self):\n",
    "        self.pis = dirichlet.rvs([self.pi_a] * self.K).flatten()\n",
    "        self.lambdas = gamma.rvs(self.gamma_a, 1 / self.gamma_b, size=(self.K,self.V))\n",
    "        self.Z = np.zeros((self.N, self.K))\n",
    "        for i in range(self.N):\n",
    "            self.Z[i] = multinomial.rvs(n=1, p=self.pis)\n",
    "\n",
    "        print('----initialize random variables finished----')\n",
    "        print(f'PIS: {self.pis.shape}, Lambdas: {self.lambdas.shape}, Z:{self.Z.shape}')\n",
    "\n",
    "    def update(self):\n",
    "        self.update_z()\n",
    "        self.expected_counts = np.dot(self.Z.T, self.data)\n",
    "        self.update_pi()\n",
    "        \n",
    "        self.update_lambda()\n",
    "        print('----update parameters finished----')\n",
    "    \n",
    "    def update_pi(self):\n",
    "        self.pis = np.sum(self.Z, axis=0) + self.pi_a\n",
    "    \n",
    "    def update_lambda(self):\n",
    "        for k in range(self.K):\n",
    "            self.lambdas[k] = self.expected_counts[k] + self.gamma_a\n",
    "\n",
    "    def update_z(self):\n",
    "        for i in range(self.N):\n",
    "            for k in range(self.K):\n",
    "                self.Z[i, k] = np.exp(psi(self.pis[k]) + np.sum(self.data[i] * (psi(self.lambdas[k]) - np.log(self.lambdas[k]))))\n",
    "            self.Z[i] /= np.sum(self.Z[i])\n",
    "\n",
    "    def calculate_elbo(self):\n",
    "        expected_log_likelihood = self.compute_log_likelihood()\n",
    "        expected_entropy = self.compute_entropy()\n",
    "        return expected_log_likelihood + expected_entropy\n",
    "    \n",
    "    def compute_log_likelihood(self):\n",
    "        exp_poisson = np.sum(poisson.logpmf(self.expected_counts,self.lambdas))\n",
    "        exp_gamma = np.sum(gamma.logpdf(self.lambdas, self.gamma_a, scale= 1/self.gamma_b))\n",
    "        exp_multinomial = np.sum(multinomial.logpmf(self.Z, n=1, p=self.pis))\n",
    "        print(f'{exp_poisson},{exp_gamma},{exp_multinomial}')\n",
    "        exp_dirichlet = dirichlet.logpdf(self.pis, [self.pi_a]*len(self.pis))\n",
    "        \n",
    "        return exp_poisson + exp_multinomial + exp_dirichlet + exp_gamma\n",
    "    \n",
    "    def compute_entropy(self):\n",
    "        exp_log_q_Z = np.sum(multinomial.logpmf(self.Z, n=1, p=self.pis))\n",
    "        exp_log_q_pi = dirichlet.logpdf(self.pis, [self.pi_a]*len(self.pis))\n",
    "        exp_log_q_lambda = np.sum(gamma.logpdf(self.lambdas, self.gamma_a, scale=1/self.gamma_b))\n",
    "\n",
    "        return exp_log_q_Z + exp_log_q_pi + exp_log_q_lambda\n",
    "\n",
    "    def fit(self, max_iter=100):\n",
    "        self.init_params()\n",
    "        print('----start iteration----')\n",
    "        for i in tqdm(range(max_iter),total=max_iter,desc='VI',ncols=100,ascii=' =',leave=True):\n",
    "            self.update()\n",
    "            self.elbo.append(self.calculate_elbo())\n",
    "            if self.elbo[-1] - self.elbo[-2] < 1e-5:\n",
    "                break\n",
    "        \n"
   ]
  },
  {
   "cell_type": "code",
   "execution_count": 13,
   "metadata": {},
   "outputs": [],
   "source": [
    "data = pd.DataFrame()\n",
    "vocabs = []\n",
    "with open('./vocab.txt', 'r') as f:\n",
    "    for line in f:\n",
    "        vocabs.append(line.split()[0])\n",
    "\n",
    "rows = []\n",
    "count = []\n",
    "with open('./ap.dat', 'r') as f:\n",
    "    for line in f:\n",
    "        tmp = line.split(' ')\n",
    "        count.append(tmp[0])\n",
    "        tmp = tmp[1:]\n",
    "        row = [0] * len(vocabs)\n",
    "        for elem in tmp:\n",
    "            index, value = elem.split(':')\n",
    "            row[int(index)] = int(value)\n",
    "        rows.append(row)\n",
    "            \n",
    "x_data = pd.DataFrame(rows, columns = vocabs)"
   ]
  },
  {
   "cell_type": "code",
   "execution_count": 109,
   "metadata": {},
   "outputs": [],
   "source": [
    "gamma_a = 1\n",
    "gamma_b = 1\n",
    "pi_a = 0.5\n",
    "K = 8"
   ]
  },
  {
   "cell_type": "code",
   "execution_count": 137,
   "metadata": {},
   "outputs": [],
   "source": [
    "cavi = CAVI(data=x_data.values,pi_a=pi_a,gamma_a=gamma_a,gamma_b=gamma_b,K=K)"
   ]
  },
  {
   "cell_type": "code",
   "execution_count": 138,
   "metadata": {},
   "outputs": [
    {
     "name": "stdout",
     "output_type": "stream",
     "text": [
      "----initialize random variables finished----\n",
      "PIS: (8,), Lambdas: (8, 10473), Z:(2246, 8)\n",
      "----start iteration----\n"
     ]
    },
    {
     "name": "stderr",
     "output_type": "stream",
     "text": [
      "VI:   0%|                                                                   | 0/100 [00:07<?, ?it/s]"
     ]
    },
    {
     "name": "stdout",
     "output_type": "stream",
     "text": [
      "----update parameters finished----\n",
      "-inf,-519621.99999999994,nan\n"
     ]
    },
    {
     "name": "stderr",
     "output_type": "stream",
     "text": [
      "\n"
     ]
    },
    {
     "ename": "ValueError",
     "evalue": "Each entry in 'x' must be smaller or equal one.",
     "output_type": "error",
     "traceback": [
      "\u001b[1;31m---------------------------------------------------------------------------\u001b[0m",
      "\u001b[1;31mValueError\u001b[0m                                Traceback (most recent call last)",
      "Cell \u001b[1;32mIn[138], line 1\u001b[0m\n\u001b[1;32m----> 1\u001b[0m cavi\u001b[39m.\u001b[39;49mfit(max_iter\u001b[39m=\u001b[39;49m\u001b[39m100\u001b[39;49m)\n",
      "Cell \u001b[1;32mIn[136], line 77\u001b[0m, in \u001b[0;36mCAVI.fit\u001b[1;34m(self, max_iter)\u001b[0m\n\u001b[0;32m     75\u001b[0m \u001b[39mfor\u001b[39;00m i \u001b[39min\u001b[39;00m tqdm(\u001b[39mrange\u001b[39m(max_iter),total\u001b[39m=\u001b[39mmax_iter,desc\u001b[39m=\u001b[39m\u001b[39m'\u001b[39m\u001b[39mVI\u001b[39m\u001b[39m'\u001b[39m,ncols\u001b[39m=\u001b[39m\u001b[39m100\u001b[39m,ascii\u001b[39m=\u001b[39m\u001b[39m'\u001b[39m\u001b[39m =\u001b[39m\u001b[39m'\u001b[39m,leave\u001b[39m=\u001b[39m\u001b[39mTrue\u001b[39;00m):\n\u001b[0;32m     76\u001b[0m     \u001b[39mself\u001b[39m\u001b[39m.\u001b[39mupdate()\n\u001b[1;32m---> 77\u001b[0m     \u001b[39mself\u001b[39m\u001b[39m.\u001b[39melbo\u001b[39m.\u001b[39mappend(\u001b[39mself\u001b[39;49m\u001b[39m.\u001b[39;49mcalculate_elbo())\n\u001b[0;32m     78\u001b[0m     \u001b[39mif\u001b[39;00m \u001b[39mself\u001b[39m\u001b[39m.\u001b[39melbo[\u001b[39m-\u001b[39m\u001b[39m1\u001b[39m] \u001b[39m-\u001b[39m \u001b[39mself\u001b[39m\u001b[39m.\u001b[39melbo[\u001b[39m-\u001b[39m\u001b[39m2\u001b[39m] \u001b[39m<\u001b[39m \u001b[39m1e-5\u001b[39m:\n\u001b[0;32m     79\u001b[0m         \u001b[39mbreak\u001b[39;00m\n",
      "Cell \u001b[1;32mIn[136], line 52\u001b[0m, in \u001b[0;36mCAVI.calculate_elbo\u001b[1;34m(self)\u001b[0m\n\u001b[0;32m     51\u001b[0m \u001b[39mdef\u001b[39;00m \u001b[39mcalculate_elbo\u001b[39m(\u001b[39mself\u001b[39m):\n\u001b[1;32m---> 52\u001b[0m     expected_log_likelihood \u001b[39m=\u001b[39m \u001b[39mself\u001b[39;49m\u001b[39m.\u001b[39;49mcompute_log_likelihood()\n\u001b[0;32m     53\u001b[0m     expected_entropy \u001b[39m=\u001b[39m \u001b[39mself\u001b[39m\u001b[39m.\u001b[39mcompute_entropy()\n\u001b[0;32m     54\u001b[0m     \u001b[39mreturn\u001b[39;00m expected_log_likelihood \u001b[39m+\u001b[39m expected_entropy\n",
      "Cell \u001b[1;32mIn[136], line 61\u001b[0m, in \u001b[0;36mCAVI.compute_log_likelihood\u001b[1;34m(self)\u001b[0m\n\u001b[0;32m     59\u001b[0m exp_multinomial \u001b[39m=\u001b[39m np\u001b[39m.\u001b[39msum(multinomial\u001b[39m.\u001b[39mlogpmf(\u001b[39mself\u001b[39m\u001b[39m.\u001b[39mZ, n\u001b[39m=\u001b[39m\u001b[39m1\u001b[39m, p\u001b[39m=\u001b[39m\u001b[39mself\u001b[39m\u001b[39m.\u001b[39mpis))\n\u001b[0;32m     60\u001b[0m \u001b[39mprint\u001b[39m(\u001b[39mf\u001b[39m\u001b[39m'\u001b[39m\u001b[39m{\u001b[39;00mexp_poisson\u001b[39m}\u001b[39;00m\u001b[39m,\u001b[39m\u001b[39m{\u001b[39;00mexp_gamma\u001b[39m}\u001b[39;00m\u001b[39m,\u001b[39m\u001b[39m{\u001b[39;00mexp_multinomial\u001b[39m}\u001b[39;00m\u001b[39m'\u001b[39m)\n\u001b[1;32m---> 61\u001b[0m exp_dirichlet \u001b[39m=\u001b[39m dirichlet\u001b[39m.\u001b[39;49mlogpdf(\u001b[39mself\u001b[39;49m\u001b[39m.\u001b[39;49mpis, [\u001b[39mself\u001b[39;49m\u001b[39m.\u001b[39;49mpi_a]\u001b[39m*\u001b[39;49m\u001b[39mlen\u001b[39;49m(\u001b[39mself\u001b[39;49m\u001b[39m.\u001b[39;49mpis))\n\u001b[0;32m     63\u001b[0m \u001b[39mreturn\u001b[39;00m exp_poisson \u001b[39m+\u001b[39m exp_multinomial \u001b[39m+\u001b[39m exp_dirichlet \u001b[39m+\u001b[39m exp_gamma\n",
      "File \u001b[1;32mc:\\Users\\Flamecracker\\anaconda3\\envs\\deeplearningbase\\lib\\site-packages\\scipy\\stats\\_multivariate.py:1472\u001b[0m, in \u001b[0;36mdirichlet_gen.logpdf\u001b[1;34m(self, x, alpha)\u001b[0m\n\u001b[0;32m   1457\u001b[0m \u001b[39m\u001b[39m\u001b[39m\"\"\"Log of the Dirichlet probability density function.\u001b[39;00m\n\u001b[0;32m   1458\u001b[0m \n\u001b[0;32m   1459\u001b[0m \u001b[39mParameters\u001b[39;00m\n\u001b[1;32m   (...)\u001b[0m\n\u001b[0;32m   1469\u001b[0m \n\u001b[0;32m   1470\u001b[0m \u001b[39m\"\"\"\u001b[39;00m\n\u001b[0;32m   1471\u001b[0m alpha \u001b[39m=\u001b[39m _dirichlet_check_parameters(alpha)\n\u001b[1;32m-> 1472\u001b[0m x \u001b[39m=\u001b[39m _dirichlet_check_input(alpha, x)\n\u001b[0;32m   1474\u001b[0m out \u001b[39m=\u001b[39m \u001b[39mself\u001b[39m\u001b[39m.\u001b[39m_logpdf(x, alpha)\n\u001b[0;32m   1475\u001b[0m \u001b[39mreturn\u001b[39;00m _squeeze_output(out)\n",
      "File \u001b[1;32mc:\\Users\\Flamecracker\\anaconda3\\envs\\deeplearningbase\\lib\\site-packages\\scipy\\stats\\_multivariate.py:1284\u001b[0m, in \u001b[0;36m_dirichlet_check_input\u001b[1;34m(alpha, x)\u001b[0m\n\u001b[0;32m   1280\u001b[0m     \u001b[39mraise\u001b[39;00m \u001b[39mValueError\u001b[39;00m(\u001b[39m\"\u001b[39m\u001b[39mEach entry in \u001b[39m\u001b[39m'\u001b[39m\u001b[39mx\u001b[39m\u001b[39m'\u001b[39m\u001b[39m must be greater than or equal \u001b[39m\u001b[39m\"\u001b[39m\n\u001b[0;32m   1281\u001b[0m                      \u001b[39m\"\u001b[39m\u001b[39mto zero.\u001b[39m\u001b[39m\"\u001b[39m)\n\u001b[0;32m   1283\u001b[0m \u001b[39mif\u001b[39;00m np\u001b[39m.\u001b[39mmax(x) \u001b[39m>\u001b[39m \u001b[39m1\u001b[39m:\n\u001b[1;32m-> 1284\u001b[0m     \u001b[39mraise\u001b[39;00m \u001b[39mValueError\u001b[39;00m(\u001b[39m\"\u001b[39m\u001b[39mEach entry in \u001b[39m\u001b[39m'\u001b[39m\u001b[39mx\u001b[39m\u001b[39m'\u001b[39m\u001b[39m must be smaller or equal one.\u001b[39m\u001b[39m\"\u001b[39m)\n\u001b[0;32m   1286\u001b[0m \u001b[39m# Check x_i > 0 or alpha_i > 1\u001b[39;00m\n\u001b[0;32m   1287\u001b[0m xeq0 \u001b[39m=\u001b[39m (x \u001b[39m==\u001b[39m \u001b[39m0\u001b[39m)\n",
      "\u001b[1;31mValueError\u001b[0m: Each entry in 'x' must be smaller or equal one."
     ]
    }
   ],
   "source": [
    "cavi.fit(max_iter=100)"
   ]
  }
 ],
 "metadata": {
  "kernelspec": {
   "display_name": "test",
   "language": "python",
   "name": "python3"
  },
  "language_info": {
   "codemirror_mode": {
    "name": "ipython",
    "version": 3
   },
   "file_extension": ".py",
   "mimetype": "text/x-python",
   "name": "python",
   "nbconvert_exporter": "python",
   "pygments_lexer": "ipython3",
   "version": "3.9.16"
  },
  "orig_nbformat": 4
 },
 "nbformat": 4,
 "nbformat_minor": 2
}
