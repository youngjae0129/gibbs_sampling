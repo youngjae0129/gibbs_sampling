{
 "cells": [
  {
   "cell_type": "code",
   "execution_count": 82,
   "metadata": {},
   "outputs": [],
   "source": [
    "from matplotlib import pyplot as plt\n",
    "from scipy.stats import multinomial,gamma,dirichlet,poisson\n",
    "import numpy as np\n",
    "import pandas as pd\n",
    "from tqdm import tqdm\n",
    "from scipy.special import psi  \n",
    "from scipy.special import polygamma"
   ]
  },
  {
   "cell_type": "code",
   "execution_count": 208,
   "metadata": {},
   "outputs": [],
   "source": [
    "class CAVI():\n",
    "    def __init__(self, data,pi_a,gamma_a,gamma_b,K):\n",
    "\n",
    "        # Number of Topics\n",
    "        self.K = K\n",
    "\n",
    "        # For Data & Size\n",
    "        self.data = data\n",
    "        self.N, self.V = data.shape\n",
    "\n",
    "        # For PI (PI ~ Dirichlet)\n",
    "        self.pi_a = pi_a\n",
    "\n",
    "        # For Lambda (Lambda ~ Gamma)\n",
    "        self.gamma_a = gamma_a\n",
    "        self.gamma_b = gamma_b\n",
    "\n",
    "        self.elbo = []\n",
    "\n",
    "    def init_params(self):\n",
    "        self.pis = dirichlet.rvs([self.pi_a] * self.K).flatten()\n",
    "        self.lambdas = gamma.rvs(self.gamma_a, 1 / self.gamma_b, size=(self.K,self.V))\n",
    "        self.Z = np.zeros((self.N, self.K))\n",
    "        for i in range(self.N):\n",
    "            self.Z[i] = multinomial.rvs(n=1, p=self.pis)\n",
    "\n",
    "        print('----initialize random variables finished----')\n",
    "        #print(f'PIS: {self.pis}, Lambdas: {self.lambdas}, Z:{self.Z}')\n",
    "\n",
    "    def update(self):\n",
    "        self.update_z()\n",
    "        self.expected_counts = np.dot(self.Z.T, self.data)\n",
    "        self.update_pi()\n",
    "        self.update_lambda()\n",
    "        #print('----update parameters finished----')\n",
    "        \n",
    "    \n",
    "    def update_pi(self):\n",
    "        self.pis = np.sum(self.Z, axis=0) + self.pi_a\n",
    "        self.pis = self.pis / np.sum(self.pis)\n",
    "    \n",
    "    def update_lambda(self):\n",
    "        for k in range(self.K):\n",
    "            self.lambdas[k] = self.expected_counts[k] + self.gamma_a\n",
    "\n",
    "    def update_z(self):\n",
    "        for i in range(self.N):\n",
    "            for k in range(self.K):\n",
    "                self.Z[i, k] = np.exp(psi(self.pis[k]) + np.sum(self.data[i] * (psi(self.lambdas[k]) - np.log(self.lambdas[k]))))\n",
    "            self.Z[i] /= np.sum(self.Z[i])\n",
    "        self.Z = np.eye(self.Z.shape[1])[np.argmax(self.Z, axis=1)]\n",
    "            \n",
    "\n",
    "    def calculate_elbo(self):\n",
    "        expected_log_likelihood = self.compute_log_likelihood()\n",
    "        expected_entropy = self.compute_entropy()\n",
    "        return expected_log_likelihood - expected_entropy\n",
    "    \n",
    "    def compute_log_likelihood(self):\n",
    "        exp_poisson = np.sum(poisson.logpmf(self.data,np.dot(self.Z,self.lambdas)))\n",
    "        exp_gamma = np.sum(gamma.logpdf(self.lambdas, self.gamma_a, scale= 1/self.gamma_b))\n",
    "        exp_multinomial = np.sum(multinomial.logpmf(self.Z, n=1, p=self.pis))\n",
    "        #print(f'{self.pis}')\n",
    "        exp_dirichlet = dirichlet.logpdf(self.pis, np.ones(self.K)*self.pi_a)\n",
    "        \n",
    "        return exp_poisson + exp_multinomial + exp_dirichlet + exp_gamma\n",
    "    \n",
    "    def compute_entropy(self):\n",
    "        exp_log_q_Z = np.sum(multinomial.logpmf(self.Z, n=1, p=self.pis))\n",
    "        exp_log_q_pi = dirichlet.logpdf(self.pis, np.ones(self.K)*self.pi_a)\n",
    "        exp_log_q_lambda = np.sum(gamma.logpdf(self.lambdas, self.gamma_a, scale=1/self.gamma_b))\n",
    "\n",
    "        return exp_log_q_Z + exp_log_q_pi + exp_log_q_lambda\n",
    "\n",
    "    def fit(self, max_iter=100):\n",
    "        self.init_params()\n",
    "        print('----start iteration----')\n",
    "        for i in tqdm(range(max_iter),total=max_iter,desc='VI',ncols=100,ascii=' =',leave=True):\n",
    "            self.update()\n",
    "            self.elbo.append(self.calculate_elbo())\n",
    "            if (len(self.elbo) >= 2) and (np.abs(self.elbo[-1] - self.elbo[-2]) < 1e-5):\n",
    "                print(i)\n",
    "                break\n",
    "        print('----finish iteration----')\n"
   ]
  },
  {
   "cell_type": "code",
   "execution_count": 199,
   "metadata": {},
   "outputs": [],
   "source": [
    "data = pd.DataFrame()\n",
    "vocabs = []\n",
    "with open('./vocab.txt', 'r') as f:\n",
    "    for line in f:\n",
    "        vocabs.append(line.split()[0])\n",
    "\n",
    "rows = []\n",
    "count = []\n",
    "with open('./ap.dat', 'r') as f:\n",
    "    for line in f:\n",
    "        tmp = line.split(' ')\n",
    "        count.append(tmp[0])\n",
    "        tmp = tmp[1:]\n",
    "        row = [0] * len(vocabs)\n",
    "        for elem in tmp:\n",
    "            index, value = elem.split(':')\n",
    "            row[int(index)] = int(value)\n",
    "        rows.append(row)\n",
    "            \n",
    "x_data = pd.DataFrame(rows, columns = vocabs)"
   ]
  },
  {
   "cell_type": "code",
   "execution_count": 109,
   "metadata": {},
   "outputs": [],
   "source": [
    "gamma_a = 1\n",
    "gamma_b = 1\n",
    "pi_a = 0.5\n",
    "K = 8"
   ]
  },
  {
   "cell_type": "code",
   "execution_count": 209,
   "metadata": {},
   "outputs": [],
   "source": [
    "cavi = CAVI(data=x_data.values,pi_a=pi_a,gamma_a=gamma_a,gamma_b=gamma_b,K=K)"
   ]
  },
  {
   "cell_type": "code",
   "execution_count": 210,
   "metadata": {},
   "outputs": [
    {
     "name": "stdout",
     "output_type": "stream",
     "text": [
      "----initialize random variables finished----\n",
      "----start iteration----\n"
     ]
    },
    {
     "name": "stderr",
     "output_type": "stream",
     "text": [
      "VI:   2%|=                                                          | 2/100 [00:22<18:30, 11.34s/it]"
     ]
    },
    {
     "name": "stdout",
     "output_type": "stream",
     "text": [
      "----finish iteration----\n"
     ]
    },
    {
     "name": "stderr",
     "output_type": "stream",
     "text": [
      "\n"
     ]
    }
   ],
   "source": [
    "cavi.fit(max_iter=100)"
   ]
  }
 ],
 "metadata": {
  "kernelspec": {
   "display_name": "test",
   "language": "python",
   "name": "python3"
  },
  "language_info": {
   "codemirror_mode": {
    "name": "ipython",
    "version": 3
   },
   "file_extension": ".py",
   "mimetype": "text/x-python",
   "name": "python",
   "nbconvert_exporter": "python",
   "pygments_lexer": "ipython3",
   "version": "3.9.16"
  },
  "orig_nbformat": 4
 },
 "nbformat": 4,
 "nbformat_minor": 2
}
