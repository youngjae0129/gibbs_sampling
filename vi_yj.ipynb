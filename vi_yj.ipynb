{
 "cells": [
  {
   "cell_type": "markdown",
   "metadata": {},
   "source": [
    " ![GM](./Graphical_Model.png)"
   ]
  },
  {
   "cell_type": "markdown",
   "metadata": {},
   "source": [
    "while not converged:<br>\n",
    "&emsp;&emsp;update $q(Z_n)$<br>\n",
    "&emsp;&emsp;update $q(\\lambda_k)$<br>\n",
    "&emsp;&emsp;update $q(\\pi)$<br>\n",
    "&emsp;&emsp;compute ELBO"
   ]
  },
  {
   "cell_type": "markdown",
   "metadata": {},
   "source": [
    "$\\begin{equation}\\begin{aligned}\n",
    "\\ln q^*(Z)=E_{\\pi,\\lambda}[\\ln p(X,Z,\\pi,\\lambda)]+const\n",
    "\\end{aligned}\\end{equation}$"
   ]
  },
  {
   "cell_type": "markdown",
   "metadata": {},
   "source": [
    "$\\begin{equation}\\begin{aligned}\n",
    "\\ln q^*(Z)=E_\\pi[\\ln p(Z|\\pi)]+E_\\lambda[\\ln p(X|Z,\\lambda)]+const\n",
    "\\end{aligned}\\end{equation}$"
   ]
  },
  {
   "cell_type": "markdown",
   "metadata": {},
   "source": [
    "$\\begin{equation}\\begin{aligned}\n",
    "\\ln q^*(Z)=\\sum^N_{n=1}\\sum^K_{k=1}z_{nk}\\ln\\rho_{nk}+const\n",
    "\\end{aligned}\\end{equation}$"
   ]
  },
  {
   "cell_type": "markdown",
   "metadata": {},
   "source": [
    "$\\begin{equation}\\begin{aligned}\n",
    "\\ln\\rho_{nk}=E[\\ln\\pi_k]+E_\\lambda\\big[\\sum^N_{n=1}\\sum^K_{k=1}z_{nk}\\ln\\frac{\\lambda^{x_n}_k e^{-\\lambda_k}}{x_n!}\\big]=E[\\ln\\pi_k]+E[x_n\\ln\\lambda_k]-E[\\lambda_k]-E[x_n!]\n",
    "\\end{aligned}\\end{equation}$"
   ]
  },
  {
   "cell_type": "markdown",
   "metadata": {},
   "source": [
    "$\\begin{equation}\\begin{aligned}\n",
    "q^*(Z)\\propto\\prod^N_{n=1}\\prod^K_{k=1}\\rho^{z_{nk}}_{nk}\n",
    "\\end{aligned}\\end{equation}$"
   ]
  },
  {
   "cell_type": "markdown",
   "metadata": {},
   "source": [
    "$\\begin{equation}\\begin{aligned}\n",
    "q^*(Z)=\\prod^N_{n=1}\\prod^K_{k=1}\\gamma^{z_{nk}}_{nk}\n",
    "\\end{aligned}\\end{equation}$"
   ]
  },
  {
   "cell_type": "markdown",
   "metadata": {},
   "source": [
    "$\\begin{equation}\\begin{aligned}\n",
    "\\gamma_{nk}=\\frac{\\rho_{nk}}{\\sum^K_{j=1}\\rho_{nj}}\n",
    "\\end{aligned}\\end{equation}$"
   ]
  },
  {
   "cell_type": "markdown",
   "metadata": {},
   "source": [
    "$\\begin{equation}\\begin{aligned}\n",
    "E[z_{nk}]=\\gamma_{nk}\n",
    "\\end{aligned}\\end{equation}$"
   ]
  },
  {
   "cell_type": "markdown",
   "metadata": {},
   "source": [
    "$\\begin{equation}\\begin{aligned}\n",
    "N_k=\\sum^N_{n=1}\\gamma_{nk}\n",
    "\\end{aligned}\\end{equation}$"
   ]
  },
  {
   "cell_type": "markdown",
   "metadata": {},
   "source": [
    "$\\begin{equation}\\begin{aligned}\n",
    "\\overline x_k=\\frac{1}{N_k}\\sum^N_{n=1}\\gamma_{nk}x_n\n",
    "\\end{aligned}\\end{equation}$"
   ]
  },
  {
   "cell_type": "markdown",
   "metadata": {},
   "source": [
    "$\\begin{equation}\\begin{aligned}\n",
    "S_k=\\frac{1}{N_k}\\sum^N_{n=1}\\gamma_{nk}(x_n-\\overline x_k)(x_n-\\overline x_k)^T\n",
    "\\end{aligned}\\end{equation}$"
   ]
  },
  {
   "cell_type": "markdown",
   "metadata": {},
   "source": [
    "$\\begin{equation}\\begin{aligned}\n",
    "\\ln q^*_\\lambda(\\lambda)&=\\ln p(D|\\lambda)+\\ln p(\\lambda)+const\\end{aligned}\\end{equation}$"
   ]
  },
  {
   "cell_type": "markdown",
   "metadata": {},
   "source": [
    "$\\begin{equation}\\begin{aligned}\n",
    "p(X_n = x_{vk}|\\lambda_{vk}) = \\frac{e^{-\\lambda_{vk}}\\lambda_{vk}^{x_{vk}}}{x_{vk}!}\n",
    "\\end{aligned}\\end{equation}$"
   ]
  },
  {
   "cell_type": "markdown",
   "metadata": {},
   "source": [
    "$\\begin{equation}\n",
    "p(D_k = V_k|\\lambda_k) = \\frac{e^{-N_k\\lambda_k}\\lambda_k^{V_k}}{V_k!}, p(\\lambda_k|\\alpha_0, \\beta_0) = \\frac{\\beta_0^{\\alpha_0}}{\\Gamma(\\alpha_0)}(\\lambda_k)^{\\alpha_0-1}e^{-\\beta_0\\lambda_k}\n",
    "\\end{equation}$"
   ]
  },
  {
   "cell_type": "markdown",
   "metadata": {},
   "source": [
    "$\\begin{equation}\n",
    "\\ln p(D|\\lambda) = \\ln \\left(\\prod_{k=1}^K \\frac{e^{-N_k\\lambda_k}\\lambda_k^{V_k}}{V_k!}\\right) = \\sum_{k=1}^K (-N_k \\lambda_k + V_k\\ln(\\lambda_k)) + \\text{const}_1\n",
    "\\end{equation}$"
   ]
  },
  {
   "cell_type": "markdown",
   "metadata": {},
   "source": [
    "$\\begin{equation}\n",
    "\\ln p(\\lambda) = \\sum_{k=1}^K ((\\alpha_0 - 1)\\ln(\\lambda_k) - \\beta_0\\lambda_k) + \\text{const}_2\n",
    "\\end{equation}$"
   ]
  },
  {
   "cell_type": "markdown",
   "metadata": {},
   "source": [
    "$\\begin{equation}\n",
    "\\ln q^*_\\lambda(\\lambda) = \\sum_{k=1}^K ((V_k+\\alpha_0-1)\\ln(\\lambda_k) - (\\beta_0+N_k)\\lambda_k) + \\text{const}\n",
    "\\end{equation}$"
   ]
  },
  {
   "cell_type": "markdown",
   "metadata": {},
   "source": [
    "$\\begin{equation}\\begin{aligned}\n",
    "\\alpha_k=\\alpha_0+V_k , \\beta_k = \\beta_0+N_k\n",
    "\\end{aligned}\\end{equation}$"
   ]
  },
  {
   "cell_type": "markdown",
   "metadata": {},
   "source": [
    "$\\begin{equation}\\begin{aligned}\n",
    "\\ln q^*(\\pi)=(\\alpha_0-1)\\sum^K_{k=1}\\ln\\pi_k+\\sum^K_{k=1}\\sum^N_{n=1}\\gamma_{nk}\\ln\\pi_k+const\n",
    "\\end{aligned}\\end{equation}$"
   ]
  },
  {
   "cell_type": "markdown",
   "metadata": {},
   "source": [
    "$\\begin{equation}\\begin{aligned}\n",
    "\\alpha_k=\\alpha_0+N_k\n",
    "\\end{aligned}\\end{equation}$"
   ]
  },
  {
   "cell_type": "markdown",
   "metadata": {},
   "source": [
    "$\\begin{equation}\\begin{aligned}\n",
    "L&=E[\\ln p(X,Z,\\pi,\\lambda)]-E[\\ln q(Z,\\pi,\\lambda)]\\\\&=E[\\ln p(X|Z,\\lambda)]+E[\\ln p(Z|\\pi)]+E[\\ln p(\\pi)]+E[\\ln p(\\lambda)]-E[\\ln q(Z)]-E[\\ln q(\\pi)]-E[\\ln q(\\lambda)]\n",
    "\\end{aligned}\\end{equation}$"
   ]
  },
  {
   "cell_type": "markdown",
   "metadata": {},
   "source": [
    "$\\begin{equation}\\begin{aligned}\n",
    "E[\\ln p(Z|\\pi)]=\\sum^N_{n=1}\\sum^K_{k=1}\\gamma_{nk}\\ln\\tilde{\\pi}_k\n",
    "\\end{aligned}\\end{equation}$"
   ]
  },
  {
   "cell_type": "code",
   "execution_count": null,
   "metadata": {},
   "outputs": [],
   "source": [
    "def update_q_lambda(x, mu_n, lambda_n, a_0, b_0, mu_0, lambda_0):\n",
    "    n_data = x.shape[0]\n",
    "    a_n = a_0 + (n_data + 1) / 2\n",
    "    expected_mu = mu_n\n",
    "    expected_squared_mu = lambda_n**(-1) + expected_mu**2\n",
    "    sum_of_squared_x = np.sum(np.power(x, 2))\n",
    "    sum_of_x = np.sum(x)\n",
    "    b_n = b_0 + 0.5*(sum_of_squared_x + lambda_0*mu_0**2 - 2*expected_mu*(sum_of_x + mu_0*lambda_0) + expected_squared_mu * (lambda_0 + n_data))\n",
    "    return a_n, b_n"
   ]
  },
  {
   "cell_type": "code",
   "execution_count": null,
   "metadata": {},
   "outputs": [],
   "source": [
    "def q_lambda(lambda_vec, a, b):\n",
    "    return gamma.pdf(lambda_vec, a=a, loc=0, scale=1/b)"
   ]
  },
  {
   "cell_type": "code",
   "execution_count": null,
   "metadata": {},
   "outputs": [],
   "source": [
    "def q_pi(pi_vec, alpha):\n",
    "    return dirichlet.pdf(pi_vec, alpha=aplha)"
   ]
  }
 ],
 "metadata": {
  "kernelspec": {
   "display_name": "Python 3",
   "language": "python",
   "name": "python3"
  },
  "language_info": {
   "codemirror_mode": {
    "name": "ipython",
    "version": 3
   },
   "file_extension": ".py",
   "mimetype": "text/x-python",
   "name": "python",
   "nbconvert_exporter": "python",
   "pygments_lexer": "ipython3",
   "version": "3.8.6"
  }
 },
 "nbformat": 4,
 "nbformat_minor": 4
}
