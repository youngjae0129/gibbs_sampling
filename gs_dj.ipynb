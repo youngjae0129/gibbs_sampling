{
 "cells": [
  {
   "cell_type": "code",
   "execution_count": 65,
   "metadata": {},
   "outputs": [],
   "source": [
    "import numpy as np\n",
    "import pandas as pd\n",
    "from scipy.stats import poisson, gamma, dirichlet, multinomial\n",
    "from tqdm import tqdm\n"
   ]
  },
  {
   "cell_type": "code",
   "execution_count": 2,
   "metadata": {},
   "outputs": [],
   "source": [
    "!python preprocess.py"
   ]
  },
  {
   "cell_type": "code",
   "execution_count": 52,
   "metadata": {},
   "outputs": [],
   "source": [
    "x_data = pd.read_csv('data.csv')\n"
   ]
  },
  {
   "cell_type": "code",
   "execution_count": 58,
   "metadata": {},
   "outputs": [],
   "source": [
    "x_data = x_data.iloc[:,1:-1]"
   ]
  },
  {
   "cell_type": "code",
   "execution_count": 69,
   "metadata": {},
   "outputs": [],
   "source": [
    "def initialize_params(x_data, K,alpha):\n",
    "    N, V = x_data.shape\n",
    "    topic_assignments = np.random.randint(0, K, size=N)\n",
    "    topic_word_counts = np.zeros((K, V))\n",
    "    topic_counts = np.zeros(K)\n",
    "    lambdas = np.random.gamma(1.0, 1.0, size=(K, V))\n",
    "    pis = dirichlet.rvs(alpha * np.ones(K), size=N)\n",
    "    \n",
    "    for i in range(N):\n",
    "        topic = topic_assignments[i]\n",
    "        topic_counts[topic] += 1\n",
    "        topic_word_counts[topic] += x_data[i]\n",
    "\n",
    "    return topic_assignments, topic_word_counts, topic_counts, lambdas, pis"
   ]
  },
  {
   "cell_type": "code",
   "execution_count": 74,
   "metadata": {},
   "outputs": [],
   "source": [
    "def gibbs_sampling(x_data, K, alpha, beta, num_iters=1000):\n",
    "    N, V = x_data.shape\n",
    "    topic_assignments, topic_word_counts, topic_counts, lambdas, pis = initialize_params(x_data, K, alpha)\n",
    "\n",
    "    for iteration in tqdm(range(num_iters)):\n",
    "        for i in range(N):\n",
    "            current_topic = topic_assignments[i]\n",
    "            topic_counts[current_topic] -= 1\n",
    "            topic_word_counts[current_topic] -= x_data[i]\n",
    "\n",
    "            log_topic_probs = np.zeros(K)\n",
    "            for k in range(K):\n",
    "                log_topic_word_prob = np.sum(poisson.logpmf(x_data[i], mu=lambdas[k]))\n",
    "                log_topic_prior_prob = np.log(pis[i, k])\n",
    "                log_topic_probs[k] = log_topic_word_prob + log_topic_prior_prob\n",
    "\n",
    "            # Subtract the max log probability to avoid numerical instability\n",
    "            log_topic_probs = log_topic_probs - np.max(log_topic_probs)\n",
    "            topic_probs = np.exp(log_topic_probs)\n",
    "            topic_probs /= topic_probs.sum()\n",
    "\n",
    "            # Sample new_topic from a multinomial distribution\n",
    "            new_topic = np.random.choice(K, p=topic_probs)\n",
    "\n",
    "            topic_assignments[i] = new_topic\n",
    "            topic_counts[new_topic] += 1\n",
    "            topic_word_counts[new_topic] += x_data[i]\n",
    "\n",
    "            # Update lambdas for the new topic\n",
    "            lambdas[new_topic] = gamma.rvs(a=topic_word_counts[new_topic] + beta, scale=1.0)\n",
    "\n",
    "            # Update pi for the current document\n",
    "            pis[i] = dirichlet.rvs(alpha + topic_counts)\n",
    "\n",
    "    return topic_assignments, topic_word_counts, topic_counts, lambdas, pis"
   ]
  },
  {
   "cell_type": "code",
   "execution_count": 75,
   "metadata": {},
   "outputs": [
    {
     "name": "stdout",
     "output_type": "stream",
     "text": [
      "(2246, 10473)\n"
     ]
    },
    {
     "name": "stderr",
     "output_type": "stream",
     "text": [
      "  0%|          | 0/1000 [00:09<?, ?it/s]\n"
     ]
    },
    {
     "ename": "KeyboardInterrupt",
     "evalue": "",
     "output_type": "error",
     "traceback": [
      "\u001b[1;31m---------------------------------------------------------------------------\u001b[0m",
      "\u001b[1;31mKeyboardInterrupt\u001b[0m                         Traceback (most recent call last)",
      "Cell \u001b[1;32mIn[75], line 9\u001b[0m\n\u001b[0;32m      7\u001b[0m \u001b[39m# Run the Gibbs sampler\u001b[39;00m\n\u001b[0;32m      8\u001b[0m \u001b[39mprint\u001b[39m(x_data_np\u001b[39m.\u001b[39mshape)\n\u001b[1;32m----> 9\u001b[0m topic_assignments, topic_word_counts, topic_counts, lambdas \u001b[39m=\u001b[39m gibbs_sampling(x_data_np, K, alpha, beta, num_iters)\n",
      "Cell \u001b[1;32mIn[74], line 30\u001b[0m, in \u001b[0;36mgibbs_sampling\u001b[1;34m(x_data, K, alpha, beta, num_iters)\u001b[0m\n\u001b[0;32m     27\u001b[0m topic_word_counts[new_topic] \u001b[39m+\u001b[39m\u001b[39m=\u001b[39m x_data[i]\n\u001b[0;32m     29\u001b[0m \u001b[39m# Update lambdas for the new topic\u001b[39;00m\n\u001b[1;32m---> 30\u001b[0m lambdas[new_topic] \u001b[39m=\u001b[39m gamma\u001b[39m.\u001b[39;49mrvs(a\u001b[39m=\u001b[39;49mtopic_word_counts[new_topic] \u001b[39m+\u001b[39;49m beta, scale\u001b[39m=\u001b[39;49m\u001b[39m1.0\u001b[39;49m)\n\u001b[0;32m     32\u001b[0m \u001b[39m# Update pi for the current document\u001b[39;00m\n\u001b[0;32m     33\u001b[0m pis[i] \u001b[39m=\u001b[39m dirichlet\u001b[39m.\u001b[39mrvs(alpha \u001b[39m+\u001b[39m topic_counts)\n",
      "File \u001b[1;32mc:\\Users\\Flamecracker\\anaconda3\\envs\\deeplearningbase\\lib\\site-packages\\scipy\\stats\\_distn_infrastructure.py:1078\u001b[0m, in \u001b[0;36mrv_generic.rvs\u001b[1;34m(self, *args, **kwds)\u001b[0m\n\u001b[0;32m   1075\u001b[0m \u001b[39melse\u001b[39;00m:\n\u001b[0;32m   1076\u001b[0m     random_state \u001b[39m=\u001b[39m \u001b[39mself\u001b[39m\u001b[39m.\u001b[39m_random_state\n\u001b[1;32m-> 1078\u001b[0m vals \u001b[39m=\u001b[39m \u001b[39mself\u001b[39;49m\u001b[39m.\u001b[39;49m_rvs(\u001b[39m*\u001b[39;49margs, size\u001b[39m=\u001b[39;49msize, random_state\u001b[39m=\u001b[39;49mrandom_state)\n\u001b[0;32m   1080\u001b[0m vals \u001b[39m=\u001b[39m vals \u001b[39m*\u001b[39m scale \u001b[39m+\u001b[39m loc\n\u001b[0;32m   1082\u001b[0m \u001b[39m# do not forget to restore the _random_state\u001b[39;00m\n",
      "File \u001b[1;32mc:\\Users\\Flamecracker\\anaconda3\\envs\\deeplearningbase\\lib\\site-packages\\scipy\\stats\\_continuous_distns.py:2953\u001b[0m, in \u001b[0;36mgamma_gen._rvs\u001b[1;34m(self, a, size, random_state)\u001b[0m\n\u001b[0;32m   2952\u001b[0m \u001b[39mdef\u001b[39;00m \u001b[39m_rvs\u001b[39m(\u001b[39mself\u001b[39m, a, size\u001b[39m=\u001b[39m\u001b[39mNone\u001b[39;00m, random_state\u001b[39m=\u001b[39m\u001b[39mNone\u001b[39;00m):\n\u001b[1;32m-> 2953\u001b[0m     \u001b[39mreturn\u001b[39;00m random_state\u001b[39m.\u001b[39;49mstandard_gamma(a, size)\n",
      "\u001b[1;31mKeyboardInterrupt\u001b[0m: "
     ]
    }
   ],
   "source": [
    "\n",
    "# Set parameters\n",
    "K = 10  # Number of topics\n",
    "alpha = 1.0  # Dirichlet prior parameter\n",
    "beta = 1.0  # Gamma prior parameter\n",
    "num_iters = 1000  # Number of iterations\n",
    "x_data_np = x_data.values\n",
    "# Run the Gibbs sampler\n",
    "print(x_data_np.shape)\n",
    "topic_assignments, topic_word_counts, topic_counts, lambdas = gibbs_sampling(x_data_np, K, alpha, beta, num_iters)\n"
   ]
  }
 ],
 "metadata": {
  "kernelspec": {
   "display_name": "deeplearningbase",
   "language": "python",
   "name": "python3"
  },
  "language_info": {
   "codemirror_mode": {
    "name": "ipython",
    "version": 3
   },
   "file_extension": ".py",
   "mimetype": "text/x-python",
   "name": "python",
   "nbconvert_exporter": "python",
   "pygments_lexer": "ipython3",
   "version": "3.9.16"
  },
  "orig_nbformat": 4
 },
 "nbformat": 4,
 "nbformat_minor": 2
}
